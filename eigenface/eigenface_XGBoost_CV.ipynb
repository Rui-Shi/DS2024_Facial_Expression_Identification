{
 "cells": [
  {
   "cell_type": "code",
   "execution_count": 14,
   "metadata": {},
   "outputs": [],
   "source": [
    "import numpy as np\n",
    "import pandas as pd\n",
    "import os\n",
    "import cv2\n",
    "from xgboost import XGBClassifier\n",
    "from sklearn.preprocessing import StandardScaler, LabelEncoder\n",
    "from sklearn.pipeline import Pipeline\n",
    "from sklearn.model_selection import GridSearchCV, cross_val_predict, cross_val_score, KFold, StratifiedKFold, train_test_split\n",
    "from eigenface_project import eigenface_project\n",
    "from sklearn.metrics import classification_report, accuracy_score, confusion_matrix"
   ]
  },
  {
   "cell_type": "code",
   "execution_count": null,
   "metadata": {},
   "outputs": [
    {
     "name": "stdout",
     "output_type": "stream",
     "text": [
      "Loaded 34795 training images.\n",
      "Loaded 7178 training images.\n"
     ]
    }
   ],
   "source": [
    "# Directory paths\n",
    "train_dir = os.path.expanduser('../train_balanced')\n",
    "test_dir = os.path.expanduser('../raw_data/fer2013/test')\n",
    "\n",
    "# Define a function to load the balanced data\n",
    "def load_images_from_directory(directory):\n",
    "    images = []\n",
    "    labels = []\n",
    "    for label in os.listdir(directory):\n",
    "        label_path = os.path.join(directory, label)\n",
    "        if os.path.isdir(label_path):\n",
    "            for file in os.listdir(label_path):\n",
    "                file_path = os.path.join(label_path, file)\n",
    "                image = cv2.imread(file_path, cv2.IMREAD_GRAYSCALE)\n",
    "                images.append(image)\n",
    "                labels.append(label)\n",
    "    return images, labels\n",
    "\n",
    "# Load training and testing images\n",
    "train_images, train_labels = load_images_from_directory(train_dir)\n",
    "test_images, test_labels = load_images_from_directory(test_dir)\n",
    "\n",
    "\n",
    "print(f\"Loaded {len(train_images)} training images.\")\n",
    "print(f\"Loaded {len(test_images)} testing images.\")"
   ]
  },
  {
   "cell_type": "code",
   "execution_count": 16,
   "metadata": {},
   "outputs": [
    {
     "name": "stdout",
     "output_type": "stream",
     "text": [
      "{'fear': 5000, 'neutral': 4965, 'disgust': 5000, 'happy': 5000, 'sad': 4830, 'surprise': 5000, 'angry': 5000}\n",
      "(34795, 48, 48)\n",
      "{'fear': 1024, 'neutral': 1233, 'disgust': 111, 'happy': 1774, 'sad': 1247, 'surprise': 831, 'angry': 958}\n",
      "(7178, 48, 48)\n"
     ]
    }
   ],
   "source": [
    "# Check the train and test data\n",
    "print({x: train_labels.count(x) for x in set(train_labels)})\n",
    "print(np.array(train_images).shape)\n",
    "\n",
    "print({x: test_labels.count(x) for x in set(test_labels)})\n",
    "print(np.array(test_images).shape)"
   ]
  },
  {
   "cell_type": "code",
   "execution_count": 17,
   "metadata": {},
   "outputs": [],
   "source": [
    "# set up X, y of train and test\n",
    "train_Class = np.array(train_labels)\n",
    "train_images = np.array(train_images)\n",
    "\n",
    "test_Class = np.array(test_labels)\n",
    "test_images = np.array(test_images)"
   ]
  },
  {
   "cell_type": "code",
   "execution_count": 18,
   "metadata": {},
   "outputs": [],
   "source": [
    "# project the image data on the eigen vectors\n",
    "train_images_project, selected_eigenvectors=eigenface_project(train_images)\n",
    "\n",
    "test_images_centered = test_images - np.mean(test_images, axis=0)\n",
    "test_images_project = np.dot(test_images_centered.reshape(test_images.shape[0], -1), selected_eigenvectors)"
   ]
  },
  {
   "cell_type": "code",
   "execution_count": null,
   "metadata": {},
   "outputs": [],
   "source": [
    "# Assuming you have your data as X and y\n",
    "\n",
    "def auto_xgboost(\n",
    "    X,\n",
    "    y,\n",
    "    n_estimators=100,\n",
    "    random_state=2024,\n",
    "    cv=10\n",
    "):\n",
    "    # 1. Parameter grid\n",
    "    param_grid = {\n",
    "        'max_depth': [3, 5, 10, 20, 30],\n",
    "        'learning_rate': [0.01, 0.1, 0.3],\n",
    "        'min_child_weight': [1, 2, 5, 10, 20, 30, 40]\n",
    "        # 'gamma': [0, 0.1],\n",
    "        # 'subsample': [0.8, 1.0],\n",
    "        # 'colsample_bytree': [0.8, 1.0]\n",
    "    }\n",
    "    # 2. Create base model\n",
    "    xgb_model = XGBClassifier(\n",
    "        objective='multi:softmax',\n",
    "        n_estimators= n_estimators,\n",
    "        # use_label_encoder=False,\n",
    "        eval_metric='merror',\n",
    "        random_state=random_state\n",
    "    )\n",
    "\n",
    "    # 3. Setup StratifiedKFold\n",
    "    skf = StratifiedKFold(\n",
    "        n_splits=cv,\n",
    "        shuffle=True,\n",
    "        random_state=random_state\n",
    "    )\n",
    "\n",
    "    # 4. Setup GridSearchCV\n",
    "    grid_search = GridSearchCV(\n",
    "        estimator=xgb_model,\n",
    "        param_grid=param_grid,\n",
    "        cv=skf,\n",
    "        scoring='accuracy',\n",
    "        n_jobs=-1, # use all the CPU cores\n",
    "        verbose=2  # detailed output monitoring progress updates\n",
    "    )\n",
    "\n",
    "    # 5. Scale the features\n",
    "    label_encoder = LabelEncoder()\n",
    "    y_encoded = label_encoder.fit_transform(y)\n",
    "    \n",
    "    scaler = StandardScaler()\n",
    "    X_scaled = scaler.fit_transform(X)\n",
    "\n",
    "    # 6. Fit the model\n",
    "    grid_search.fit(X_scaled, y_encoded)\n",
    "\n",
    "    # 7. Best model\n",
    "    best_model = grid_search.best_estimator_\n",
    "    \n",
    "    # 8. Best params\n",
    "    best_par = grid_search.best_params_\n",
    "    \n",
    "    # 9. Best CV score\n",
    "    best_score = grid_search.best_score_\n",
    "\n",
    "    # 10. Feature importance\n",
    "    feature_importance = pd.DataFrame({\n",
    "        'feature': [f'feature_{i}' for i in range(X.shape[1])],\n",
    "        'importance': best_model.feature_importances_\n",
    "    })\n",
    "    feature_importance = feature_importance.sort_values('importance', ascending=False)\n",
    "    \n",
    "    # compile and return the results\n",
    "    results = {\n",
    "        'best_params': best_par,\n",
    "        'best_score': best_score,\n",
    "        'best_model': best_model,\n",
    "        'feature_importance': feature_importance\n",
    "    }\n",
    "\n",
    "    return results, grid_search"
   ]
  },
  {
   "cell_type": "code",
   "execution_count": 22,
   "metadata": {},
   "outputs": [
    {
     "name": "stdout",
     "output_type": "stream",
     "text": [
      "Fitting 10 folds for each of 105 candidates, totalling 1050 fits\n",
      "best_params: \n",
      " {'learning_rate': 0.1, 'max_depth': 30, 'min_child_weight': 10}\n",
      "best_score: \n",
      " 0.4404942710449891\n",
      "best_model: \n",
      " XGBClassifier(base_score=None, booster=None, callbacks=None,\n",
      "              colsample_bylevel=None, colsample_bynode=None,\n",
      "              colsample_bytree=None, device=None, early_stopping_rounds=None,\n",
      "              enable_categorical=False, eval_metric='merror',\n",
      "              feature_types=None, gamma=None, grow_policy=None,\n",
      "              importance_type=None, interaction_constraints=None,\n",
      "              learning_rate=0.1, max_bin=None, max_cat_threshold=None,\n",
      "              max_cat_to_onehot=None, max_delta_step=None, max_depth=30,\n",
      "              max_leaves=None, min_child_weight=10, missing=nan,\n",
      "              monotone_constraints=None, multi_strategy=None, n_estimators=100,\n",
      "              n_jobs=None, num_parallel_tree=None, objective='multi:softmax', ...)\n",
      "feature_importance: \n",
      "          feature  importance\n",
      "4      feature_4    0.023674\n",
      "6      feature_6    0.022559\n",
      "0      feature_0    0.015618\n",
      "13    feature_13    0.015597\n",
      "14    feature_14    0.014160\n",
      "..           ...         ...\n",
      "109  feature_109    0.007563\n",
      "59    feature_59    0.007544\n",
      "94    feature_94    0.007507\n",
      "73    feature_73    0.007493\n",
      "89    feature_89    0.007439\n",
      "\n",
      "[110 rows x 2 columns]\n"
     ]
    }
   ],
   "source": [
    "XGB_result, grid_search = auto_xgboost(X=train_images_project, y=train_Class)\n",
    "\n",
    "# loop through and print the results\n",
    "for key, value in XGB_result.items():\n",
    "    print(f\"{key}: \\n {value}\")"
   ]
  },
  {
   "cell_type": "code",
   "execution_count": 45,
   "metadata": {},
   "outputs": [],
   "source": [
    "# work on the test data set\n",
    "# fit with the best model with 1000 trees\n",
    "scaler = StandardScaler()\n",
    "scaler.fit(train_images_project)\n",
    "train_images_scaled = scaler.transform(train_images_project)\n",
    "test_images_scaled = scaler.transform(test_images_project)\n",
    "\n",
    "# encode the classes\n",
    "label_encoder = LabelEncoder()\n",
    "label_encoder.fit(train_Class)\n",
    "train_Class_encoded = label_encoder.transform(train_Class)\n",
    "test_Class_encoded = label_encoder.transform(test_Class)\n",
    "    \n",
    "    \n",
    "xgb = XGBClassifier(max_depth=30, learning_rate=0.01, min_child_weight=10,\n",
    "                       random_state=2024, n_estimators=5000, objective='multi:softmax', eval_metric='merror')\n",
    "xgb.fit(train_images_scaled, train_Class_encoded)\n",
    "train_Class_pred = xgb.predict(train_images_scaled)\n",
    "test_Class_pred = xgb.predict(test_images_scaled)"
   ]
  },
  {
   "cell_type": "code",
   "execution_count": 46,
   "metadata": {},
   "outputs": [
    {
     "name": "stdout",
     "output_type": "stream",
     "text": [
      "0.9987354504957608\n",
      "              precision    recall  f1-score   support\n",
      "\n",
      "           0       1.00      1.00      1.00      5000\n",
      "           1       1.00      1.00      1.00      5000\n",
      "           2       1.00      1.00      1.00      5000\n",
      "           3       1.00      1.00      1.00      5000\n",
      "           4       1.00      1.00      1.00      4965\n",
      "           5       1.00      1.00      1.00      4830\n",
      "           6       1.00      1.00      1.00      5000\n",
      "\n",
      "    accuracy                           1.00     34795\n",
      "   macro avg       1.00      1.00      1.00     34795\n",
      "weighted avg       1.00      1.00      1.00     34795\n",
      "\n"
     ]
    }
   ],
   "source": [
    "# train accuracy\n",
    "print(accuracy_score(train_Class_encoded, train_Class_pred))\n",
    "        \n",
    "# classification_report\n",
    "print(classification_report(train_Class_encoded, train_Class_pred))"
   ]
  },
  {
   "cell_type": "code",
   "execution_count": 47,
   "metadata": {},
   "outputs": [
    {
     "name": "stdout",
     "output_type": "stream",
     "text": [
      "0.4381443298969072\n",
      "              precision    recall  f1-score   support\n",
      "\n",
      "           0       0.32      0.34      0.33       958\n",
      "           1       0.11      0.53      0.18       111\n",
      "           2       0.41      0.33      0.37      1024\n",
      "           3       0.63      0.52      0.57      1774\n",
      "           4       0.42      0.42      0.42      1233\n",
      "           5       0.38      0.32      0.35      1247\n",
      "           6       0.55      0.69      0.61       831\n",
      "\n",
      "    accuracy                           0.44      7178\n",
      "   macro avg       0.40      0.45      0.40      7178\n",
      "weighted avg       0.46      0.44      0.44      7178\n",
      "\n"
     ]
    }
   ],
   "source": [
    "# train accuracy\n",
    "print(accuracy_score(test_Class_encoded, test_Class_pred))\n",
    "        \n",
    "# classification_report\n",
    "print(classification_report(test_Class_encoded, test_Class_pred))"
   ]
  }
 ],
 "metadata": {
  "kernelspec": {
   "display_name": "base",
   "language": "python",
   "name": "python3"
  },
  "language_info": {
   "codemirror_mode": {
    "name": "ipython",
    "version": 3
   },
   "file_extension": ".py",
   "mimetype": "text/x-python",
   "name": "python",
   "nbconvert_exporter": "python",
   "pygments_lexer": "ipython3",
   "version": "3.12.7"
  }
 },
 "nbformat": 4,
 "nbformat_minor": 2
}
