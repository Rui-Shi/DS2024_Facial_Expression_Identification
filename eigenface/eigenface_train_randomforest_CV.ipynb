{
 "cells": [
  {
   "cell_type": "code",
   "execution_count": 16,
   "metadata": {},
   "outputs": [],
   "source": [
    "import numpy as np\n",
    "import pandas as pd\n",
    "import os\n",
    "import cv2\n",
    "from sklearn.ensemble import RandomForestClassifier\n",
    "from sklearn.preprocessing import StandardScaler\n",
    "from sklearn.pipeline import Pipeline\n",
    "from sklearn.model_selection import GridSearchCV, cross_val_predict, cross_val_score, KFold, StratifiedKFold, train_test_split\n",
    "from eigenface_project import eigenface_project\n",
    "from sklearn.metrics import classification_report, accuracy_score"
   ]
  },
  {
   "cell_type": "code",
   "execution_count": 3,
   "metadata": {},
   "outputs": [
    {
     "name": "stdout",
     "output_type": "stream",
     "text": [
      "Loaded 34795 training images.\n"
     ]
    }
   ],
   "source": [
    "# Directory paths\n",
    "train_dir = os.path.expanduser('../train_balanced')\n",
    "\n",
    "# Define a function to load the balanced data\n",
    "def load_images_from_directory(directory):\n",
    "    images = []\n",
    "    labels = []\n",
    "    for label in os.listdir(directory):\n",
    "        label_path = os.path.join(directory, label)\n",
    "        if os.path.isdir(label_path):\n",
    "            for file in os.listdir(label_path):\n",
    "                file_path = os.path.join(label_path, file)\n",
    "                image = cv2.imread(file_path, cv2.IMREAD_GRAYSCALE)\n",
    "                images.append(image)\n",
    "                labels.append(label)\n",
    "    return images, labels\n",
    "\n",
    "# Load training and testing images\n",
    "train_images, train_labels = load_images_from_directory(train_dir)\n",
    "\n",
    "print(f\"Loaded {len(train_images)} training images.\")"
   ]
  },
  {
   "cell_type": "code",
   "execution_count": null,
   "metadata": {},
   "outputs": [
    {
     "name": "stdout",
     "output_type": "stream",
     "text": [
      "(34795, 48, 48)\n"
     ]
    }
   ],
   "source": [
    "print({x: train_labels.count(x) for x in set(train_labels)})\n",
    "print(np.array(train_images).shape)"
   ]
  },
  {
   "cell_type": "code",
   "execution_count": 5,
   "metadata": {},
   "outputs": [],
   "source": [
    "# set up X, y\n",
    "Class = np.array(train_labels)\n",
    "train_images = np.array(train_images)"
   ]
  },
  {
   "cell_type": "code",
   "execution_count": 6,
   "metadata": {},
   "outputs": [],
   "source": [
    "# project the image data on the eigen vectors\n",
    "train_images_project=eigenface_project(train_images)"
   ]
  },
  {
   "cell_type": "code",
   "execution_count": 32,
   "metadata": {},
   "outputs": [],
   "source": [
    "# define a random forest function, and search the best parameters\n",
    "\n",
    "def auto_random_forest(\n",
    "    X,\n",
    "    y, \n",
    "    test_size=0.2,\n",
    "    random_state=2024,\n",
    "    n_estimators=100,\n",
    "    cv=10\n",
    "):\n",
    "    \"\"\"\n",
    "    Implement Random Forest with different max_features settings and find optimal value\n",
    "    \n",
    "    Parameters:\n",
    "    X, y: pandas DataFrame containing features and target\n",
    "    test_size: proportion of data to use for testing\n",
    "    random_state: random state for reproducibility\n",
    "    n_estimators: number of trees in forest\n",
    "    cv: number of cross-validation folds\n",
    "    \"\"\"\n",
    "    \n",
    "    # number of features\n",
    "    n_features = np.array(X).shape[1]\n",
    "    \n",
    "    # Create different max_features values to try\n",
    "    # Include common options and some specific numbers\n",
    "    max_features_options = [\n",
    "        \"log2\",\n",
    "        \"sqrt\",\n",
    "        0.1,     # 10% of features\n",
    "    ]\n",
    "    \n",
    "    # Split the data\n",
    "    X_train, X_test, y_train, y_test = train_test_split(\n",
    "        X, y, \n",
    "        test_size=test_size, \n",
    "        random_state=random_state,\n",
    "        stratify=y\n",
    "    )\n",
    "    \n",
    "    # Scale features\n",
    "    scaler = StandardScaler()\n",
    "    X_train_scaled = scaler.fit_transform(X_train)\n",
    "    X_test_scaled = scaler.transform(X_test)\n",
    "    \n",
    "    # Create parameter grid\n",
    "    param_grid = {\n",
    "        'max_features': max_features_options,\n",
    "        'min_samples_split': [2, 5, 10, 20, 30, 40, 50],\n",
    "        'min_samples_leaf': [2, 5, 10, 20, 30, 40, 50]\n",
    "    }\n",
    "    \n",
    "    # Initialize Random Forest\n",
    "    rf = RandomForestClassifier(\n",
    "        n_estimators=n_estimators,\n",
    "        random_state=random_state\n",
    "    )\n",
    "    \n",
    "    # Perform grid search\n",
    "    grid_search = GridSearchCV(\n",
    "        estimator=rf,\n",
    "        param_grid=param_grid,\n",
    "        cv=cv,\n",
    "        scoring='accuracy',\n",
    "        n_jobs=-1, # use all the CPU cores\n",
    "        verbose=2  # detailed output monitoring progress updates\n",
    "    )\n",
    "    \n",
    "    # Fit grid search\n",
    "    grid_search.fit(X_train_scaled, y_train)\n",
    "    \n",
    "    # Get best model\n",
    "    best_rf = grid_search.best_estimator_\n",
    "    \n",
    "    # Make predictions with best model\n",
    "    y_pred = best_rf.predict(X_test_scaled)\n",
    "    \n",
    "    # Evaluate different max_features settings\n",
    "    max_features_results = []\n",
    "    for max_feat in max_features_options:\n",
    "        rf_temp = RandomForestClassifier(\n",
    "            n_estimators=1000,\n",
    "            max_features=max_feat,\n",
    "            random_state=random_state\n",
    "        )\n",
    "        rf_temp.fit(X_train_scaled, y_train)\n",
    "        train_score = rf_temp.score(X_train_scaled, y_train)\n",
    "        test_score = rf_temp.score(X_test_scaled, y_test)\n",
    "        \n",
    "        # Convert max_feat to string for consistent display\n",
    "        max_feat_str = str(max_feat)\n",
    "        if isinstance(max_feat, float):\n",
    "            max_feat_str = f\"{max_feat:.1%} of features\"\n",
    "        \n",
    "        max_features_results.append({\n",
    "            'max_features': max_feat_str,\n",
    "            'train_score': train_score,\n",
    "            'test_score': test_score\n",
    "        })\n",
    "    \n",
    "    # Compile results\n",
    "    results = {\n",
    "        'best_params': grid_search.best_params_,\n",
    "        'best_score': grid_search.best_score_,\n",
    "        'test_accuracy': accuracy_score(y_test, y_pred),\n",
    "        'classification_report': classification_report(y_test, y_pred),\n",
    "        'max_features_comparison': pd.DataFrame(max_features_results),\n",
    "        'best_model': best_rf\n",
    "    }\n",
    "    \n",
    "    return results"
   ]
  },
  {
   "cell_type": "code",
   "execution_count": 33,
   "metadata": {},
   "outputs": [
    {
     "name": "stdout",
     "output_type": "stream",
     "text": [
      "Fitting 10 folds for each of 147 candidates, totalling 1470 fits\n"
     ]
    }
   ],
   "source": [
    "random_forest_result = auto_random_forest(X=train_images_project, y=Class)"
   ]
  },
  {
   "cell_type": "code",
   "execution_count": 34,
   "metadata": {},
   "outputs": [
    {
     "name": "stdout",
     "output_type": "stream",
     "text": [
      "best_params: \n",
      " {'max_features': 'sqrt', 'min_samples_leaf': 2, 'min_samples_split': 20}\n",
      "best_score: \n",
      " 0.3976860226911338\n",
      "test_accuracy: \n",
      " 0.39991378071562006\n",
      "classification_report: \n",
      "               precision    recall  f1-score   support\n",
      "\n",
      "       angry       0.33      0.25      0.28      1000\n",
      "     disgust       0.50      0.73      0.59      1000\n",
      "        fear       0.34      0.22      0.27      1000\n",
      "       happy       0.38      0.50      0.43      1000\n",
      "     neutral       0.38      0.38      0.38       993\n",
      "         sad       0.31      0.27      0.29       966\n",
      "    surprise       0.48      0.45      0.46      1000\n",
      "\n",
      "    accuracy                           0.40      6959\n",
      "   macro avg       0.39      0.40      0.39      6959\n",
      "weighted avg       0.39      0.40      0.39      6959\n",
      "\n",
      "max_features_comparison: \n",
      "         max_features  train_score  test_score\n",
      "0               log2     0.998743    0.445466\n",
      "1               sqrt     0.998743    0.442736\n",
      "2  10.0% of features     0.998743    0.450496\n",
      "best_model: \n",
      " RandomForestClassifier(min_samples_leaf=2, min_samples_split=20,\n",
      "                       random_state=2024)\n"
     ]
    }
   ],
   "source": [
    "# loop through and print the results\n",
    "for key, value in random_forest_result.items():\n",
    "    print(f\"{key}: \\n {value}\")"
   ]
  }
 ],
 "metadata": {
  "kernelspec": {
   "display_name": "base",
   "language": "python",
   "name": "python3"
  },
  "language_info": {
   "codemirror_mode": {
    "name": "ipython",
    "version": 3
   },
   "file_extension": ".py",
   "mimetype": "text/x-python",
   "name": "python",
   "nbconvert_exporter": "python",
   "pygments_lexer": "ipython3",
   "version": "3.12.7"
  }
 },
 "nbformat": 4,
 "nbformat_minor": 2
}
