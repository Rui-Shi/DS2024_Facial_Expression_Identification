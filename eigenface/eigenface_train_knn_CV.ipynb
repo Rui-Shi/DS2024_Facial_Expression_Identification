{
 "cells": [
  {
   "cell_type": "code",
   "execution_count": 10,
   "metadata": {},
   "outputs": [],
   "source": [
    "import numpy as np\n",
    "import pandas as pd\n",
    "from sklearn.neighbors import KNeighborsClassifier\n",
    "from sklearn.preprocessing import StandardScaler\n",
    "from sklearn.pipeline import Pipeline\n",
    "from sklearn.model_selection import GridSearchCV\n",
    "from sklearn.model_selection import cross_val_score, KFold, StratifiedKFold, train_test_split\n",
    "from eigenface_project import eigenface_project\n",
    "# numbers of pixels of x and y axis\n",
    "xPixel = 48  \n",
    "yPixel = 48"
   ]
  },
  {
   "cell_type": "code",
   "execution_count": 5,
   "metadata": {},
   "outputs": [],
   "source": [
    "# Load data\n",
    "df = pd.read_csv(\"../data_preprocessing/train_data/face_data_train.csv\", header=0) # specify the first row as header"
   ]
  },
  {
   "cell_type": "code",
   "execution_count": 6,
   "metadata": {},
   "outputs": [],
   "source": [
    "# set up X, y\n",
    "Class = df['Class'].values\n",
    "images = df.iloc[:,:-1].values"
   ]
  },
  {
   "cell_type": "code",
   "execution_count": 7,
   "metadata": {},
   "outputs": [],
   "source": [
    "# the projection of the image data on the eigen vectors\n",
    "images_project=eigenface_project(images)"
   ]
  },
  {
   "cell_type": "code",
   "execution_count": 12,
   "metadata": {},
   "outputs": [
    {
     "name": "stdout",
     "output_type": "stream",
     "text": [
      "Best n_neighbors: 1\n",
      "Best accuracy: 0.37914979185994085\n"
     ]
    }
   ],
   "source": [
    "# Perform StratifiedKFold cross-validation on knn\n",
    "\n",
    "# create pipeline object\n",
    "pipeline = Pipeline([\n",
    "    ('scaler', StandardScaler()),\n",
    "    ('knn', KNeighborsClassifier(n_neighbors=5))\n",
    "])\n",
    "\n",
    "# Define the parameter grid for n_neighbors\n",
    "param_grid = {\n",
    "    'knn__n_neighbors': range(1, 31)  # Test n_neighbors from 1 to 30\n",
    "}\n",
    "\n",
    "# stratified CV object\n",
    "skcv = StratifiedKFold(n_splits=5, shuffle=True, random_state=123)\n",
    "\n",
    "# Initialize GridSearchCV\n",
    "grid_search = GridSearchCV(pipeline, param_grid, cv=skcv, scoring='accuracy')\n",
    "\n",
    "# Fit the grid search\n",
    "grid_search.fit(images, Class)\n",
    "\n",
    "# Print the results\n",
    "# Print the best n_neighbors and the corresponding score\n",
    "print(\"Best n_neighbors:\", grid_search.best_params_['knn__n_neighbors'])\n",
    "print(\"Best accuracy:\", grid_search.best_score_)\n"
   ]
  },
  {
   "cell_type": "code",
   "execution_count": 14,
   "metadata": {},
   "outputs": [
    {
     "name": "stdout",
     "output_type": "stream",
     "text": [
      "n_neighbors = 1:\n",
      "  Mean cross-validation score: 0.3791\n",
      "n_neighbors = 2:\n",
      "  Mean cross-validation score: 0.3406\n",
      "n_neighbors = 3:\n",
      "  Mean cross-validation score: 0.3297\n",
      "n_neighbors = 4:\n",
      "  Mean cross-validation score: 0.3325\n",
      "n_neighbors = 5:\n",
      "  Mean cross-validation score: 0.3376\n",
      "n_neighbors = 6:\n",
      "  Mean cross-validation score: 0.3322\n",
      "n_neighbors = 7:\n",
      "  Mean cross-validation score: 0.3316\n",
      "n_neighbors = 8:\n",
      "  Mean cross-validation score: 0.3307\n",
      "n_neighbors = 9:\n",
      "  Mean cross-validation score: 0.3342\n",
      "n_neighbors = 10:\n",
      "  Mean cross-validation score: 0.3336\n",
      "n_neighbors = 11:\n",
      "  Mean cross-validation score: 0.3339\n",
      "n_neighbors = 12:\n",
      "  Mean cross-validation score: 0.3325\n",
      "n_neighbors = 13:\n",
      "  Mean cross-validation score: 0.3281\n",
      "n_neighbors = 14:\n",
      "  Mean cross-validation score: 0.3283\n",
      "n_neighbors = 15:\n",
      "  Mean cross-validation score: 0.3288\n",
      "n_neighbors = 16:\n",
      "  Mean cross-validation score: 0.3282\n",
      "n_neighbors = 17:\n",
      "  Mean cross-validation score: 0.3266\n",
      "n_neighbors = 18:\n",
      "  Mean cross-validation score: 0.3270\n",
      "n_neighbors = 19:\n",
      "  Mean cross-validation score: 0.3266\n",
      "n_neighbors = 20:\n",
      "  Mean cross-validation score: 0.3245\n",
      "n_neighbors = 21:\n",
      "  Mean cross-validation score: 0.3240\n",
      "n_neighbors = 22:\n",
      "  Mean cross-validation score: 0.3227\n",
      "n_neighbors = 23:\n",
      "  Mean cross-validation score: 0.3237\n",
      "n_neighbors = 24:\n",
      "  Mean cross-validation score: 0.3246\n",
      "n_neighbors = 25:\n",
      "  Mean cross-validation score: 0.3241\n",
      "n_neighbors = 26:\n",
      "  Mean cross-validation score: 0.3239\n",
      "n_neighbors = 27:\n",
      "  Mean cross-validation score: 0.3230\n",
      "n_neighbors = 28:\n",
      "  Mean cross-validation score: 0.3224\n",
      "n_neighbors = 29:\n",
      "  Mean cross-validation score: 0.3225\n",
      "n_neighbors = 30:\n",
      "  Mean cross-validation score: 0.3230\n"
     ]
    }
   ],
   "source": [
    "# Print the results for each n_neighbors\n",
    "for i in range(1, 31):\n",
    "    print(f\"n_neighbors = {i}:\")\n",
    "    print(f\"  Mean cross-validation score: {grid_search.cv_results_[f'mean_test_score'][i-1]:.4f}\")\n",
    "    # print(f\"  Standard deviation: {grid_search.cv_results_[f'std_test_score'][i-1]:.4f}\")"
   ]
  }
 ],
 "metadata": {
  "kernelspec": {
   "display_name": "base",
   "language": "python",
   "name": "python3"
  },
  "language_info": {
   "codemirror_mode": {
    "name": "ipython",
    "version": 3
   },
   "file_extension": ".py",
   "mimetype": "text/x-python",
   "name": "python",
   "nbconvert_exporter": "python",
   "pygments_lexer": "ipython3",
   "version": "3.12.4"
  }
 },
 "nbformat": 4,
 "nbformat_minor": 2
}
