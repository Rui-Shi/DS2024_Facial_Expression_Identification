{
 "cells": [
  {
   "cell_type": "code",
   "execution_count": null,
   "metadata": {},
   "outputs": [],
   "source": [
    "import os\n",
    "import csv\n",
    "import numpy as np\n",
    "import matplotlib.pyplot as plt\n",
    "from sklearn.decomposition import PCA\n",
    "from PIL import Image\n",
    "CLASS_angry = 0 # Class 0: Angry\n",
    "CLASS_disgust = 1 # Class 1: Disgust\n",
    "CLASS_fear = 2 # Class 2: Fear\n",
    "CLASS_happy = 3 # Class 3: Happy\n",
    "CLASS_sad = 4 # Class 4: Sad\n",
    "CLASS_surprise = 5 # Class 5: Surprise\n",
    "CLASS_neural = 6 # Class 6: Neural"
   ]
  },
  {
   "cell_type": "code",
   "execution_count": 2,
   "metadata": {},
   "outputs": [],
   "source": [
    "# # Get the absolute path of the current script file\n",
    "# abspath = os.path.abspath(\"image_to_csv.ipynb\")\n",
    "\n",
    "# # Extract the directory from the file path\n",
    "# dname = os.path.dirname(abspath)\n",
    "\n",
    "# # Change the current working directory\n",
    "# os.chdir(dname)\n",
    "\n",
    "# # Print the current working directory\n",
    "# print(os.getcwd()) "
   ]
  },
  {
   "cell_type": "code",
   "execution_count": 3,
   "metadata": {},
   "outputs": [],
   "source": [
    "# Change the current working directory to avoid writing the csv file into the project folder, as it's too large to sync on git\n",
    "os.chdir(\"G:/TheErdosInstitution/DS_2024\")"
   ]
  },
  {
   "cell_type": "code",
   "execution_count": null,
   "metadata": {},
   "outputs": [
    {
     "data": {
      "text/plain": [
       "'face_data_train_angry.csv'"
      ]
     },
     "execution_count": 14,
     "metadata": {},
     "output_type": "execute_result"
    }
   ],
   "source": [
    "image_dir_angry = \"./DS2024_facial_expression/data/fer2013/train/angry\"  # the directory of face images\n",
    "image_dir_disgust = \"./DS2024_facial_expression/data/fer2013/train/disgust\"\n",
    "image_dir_fear = \"./DS2024_facial_expression/data/fer2013/train/fear\"\n",
    "image_dir_happy = \"./DS2024_facial_expression/data/fer2013/train/happy\"\n",
    "image_dir_sad = \"./DS2024_facial_expression/data/fer2013/train/sad\"\n",
    "image_dir_surprise = \"./DS2024_facial_expression/data/fer2013/train/surprise\"\n",
    "image_dir_neutral = \"./DS2024_facial_expression/data/fer2013/train/neutral\"\n",
    "\n",
    "csv_file = \"face_data_train.csv\" # the name of the output CSV file\n",
    "\n"
   ]
  },
  {
   "cell_type": "code",
   "execution_count": null,
   "metadata": {},
   "outputs": [],
   "source": [
    "def process_images(image_dir, catg):\n",
    "    \"\"\"\n",
    "    Loads images from the given directory, converts them to grayscale, \n",
    "    flattens them into 1D arrays, and returns a list of image data.\n",
    "    \"\"\"\n",
    "\n",
    "    image_data = []\n",
    "    for filename in os.listdir(image_dir): # list all the files and directores within that path\n",
    "        if filename.endswith((\".jpg\", \".jpeg\", \".png\")):  # Adjust file extensions as needed\n",
    "            filepath = os.path.join(image_dir, filename)\n",
    "            try: # try the following operation, if there is a error, excute the \"exception\" line\n",
    "                # img = Image.open(filepath).convert('L')  # Convert to grayscale\n",
    "                img = Image.open(filepath)\n",
    "                img = img.resize((48, 48))  # Ensure all images are 48x48\n",
    "                img_array = np.array(img).flatten().append(catg)  # Flatten to a 1D array + the class number\n",
    "                image_data.append(img_array)\n",
    "            except Exception as e:\n",
    "                print(f\"Error processing image {filename}: {e}\")\n",
    "    return image_data"
   ]
  },
  {
   "cell_type": "code",
   "execution_count": 15,
   "metadata": {},
   "outputs": [],
   "source": [
    "def write_to_csv(csv_file, image_data):\n",
    "    \"\"\"\n",
    "    Writes the image data to a CSV file.\n",
    "    \"\"\"\n",
    "\n",
    "    with open(csv_file, 'w', newline='') as file:\n",
    "        writer = csv.writer(file)\n",
    "        writer.writerow([\"Pixels 1\"] + list(range(2, 48*48+1)) + [\"Class\"])  # Header (optional)\n",
    "        for img_array in image_data:\n",
    "            writer.writerow(img_array.tolist()) "
   ]
  },
  {
   "cell_type": "code",
   "execution_count": 16,
   "metadata": {},
   "outputs": [
    {
     "name": "stdout",
     "output_type": "stream",
     "text": [
      "Successfully processed images and saved data to face_data_train.csv\n"
     ]
    }
   ],
   "source": [
    "# defines a section of code that will only run when the script is executed directly, \n",
    "# not when it's imported as a module into another script.\n",
    "if __name__ == \"__main__\":\n",
    "    image_data = process_images(image_dir)\n",
    "    write_to_csv(csv_file, image_data)\n",
    "    print(f\"Successfully processed images and saved data to {csv_file}\")"
   ]
  }
 ],
 "metadata": {
  "kernelspec": {
   "display_name": "base",
   "language": "python",
   "name": "python3"
  },
  "language_info": {
   "codemirror_mode": {
    "name": "ipython",
    "version": 3
   },
   "file_extension": ".py",
   "mimetype": "text/x-python",
   "name": "python",
   "nbconvert_exporter": "python",
   "pygments_lexer": "ipython3",
   "version": "3.12.4"
  }
 },
 "nbformat": 4,
 "nbformat_minor": 2
}
