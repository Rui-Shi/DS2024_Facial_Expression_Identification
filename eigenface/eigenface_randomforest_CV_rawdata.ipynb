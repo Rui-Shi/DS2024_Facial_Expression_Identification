{
 "cells": [
  {
   "cell_type": "code",
   "execution_count": 2,
   "metadata": {},
   "outputs": [],
   "source": [
    "import numpy as np\n",
    "import pandas as pd\n",
    "import os\n",
    "import cv2\n",
    "from sklearn.ensemble import RandomForestClassifier\n",
    "from sklearn.preprocessing import StandardScaler\n",
    "from sklearn.pipeline import Pipeline\n",
    "from sklearn.model_selection import GridSearchCV, cross_val_predict, cross_val_score, KFold, StratifiedKFold, train_test_split\n",
    "from eigenface_project import eigenface_project\n",
    "from sklearn.metrics import classification_report, accuracy_score, confusion_matrix\n",
    "from time import time, sleep"
   ]
  },
  {
   "cell_type": "code",
   "execution_count": 3,
   "metadata": {},
   "outputs": [
    {
     "name": "stdout",
     "output_type": "stream",
     "text": [
      "Loaded 28709 training images.\n",
      "Loaded 7178 training images.\n"
     ]
    }
   ],
   "source": [
    "# Directory paths\n",
    "train_dir = os.path.expanduser('../raw_data/fer2013/train')\n",
    "test_dir = os.path.expanduser('../raw_data/fer2013/test')\n",
    "\n",
    "# Define a function to load the balanced data\n",
    "def load_images_from_directory(directory):\n",
    "    images = []\n",
    "    labels = []\n",
    "    for label in os.listdir(directory):\n",
    "        label_path = os.path.join(directory, label)\n",
    "        if os.path.isdir(label_path):\n",
    "            for file in os.listdir(label_path):\n",
    "                file_path = os.path.join(label_path, file)\n",
    "                image = cv2.imread(file_path, cv2.IMREAD_GRAYSCALE)\n",
    "                images.append(image)\n",
    "                labels.append(label)\n",
    "    return images, labels\n",
    "\n",
    "# Load training and testing images\n",
    "train_images, train_labels = load_images_from_directory(train_dir)\n",
    "test_images, test_labels = load_images_from_directory(test_dir)\n",
    "\n",
    "\n",
    "print(f\"Loaded {len(train_images)} training images.\")\n",
    "print(f\"Loaded {len(test_images)} training images.\")"
   ]
  },
  {
   "cell_type": "code",
   "execution_count": 4,
   "metadata": {},
   "outputs": [
    {
     "name": "stdout",
     "output_type": "stream",
     "text": [
      "{'fear': 4097, 'angry': 3995, 'happy': 7215, 'surprise': 3171, 'disgust': 436, 'neutral': 4965, 'sad': 4830}\n",
      "(28709, 48, 48)\n",
      "{'fear': 1024, 'angry': 958, 'happy': 1774, 'surprise': 831, 'disgust': 111, 'neutral': 1233, 'sad': 1247}\n",
      "(7178, 48, 48)\n"
     ]
    }
   ],
   "source": [
    "# Check the train and test data\n",
    "print({x: train_labels.count(x) for x in set(train_labels)})\n",
    "print(np.array(train_images).shape)\n",
    "\n",
    "print({x: test_labels.count(x) for x in set(test_labels)})\n",
    "print(np.array(test_images).shape)"
   ]
  },
  {
   "cell_type": "code",
   "execution_count": 5,
   "metadata": {},
   "outputs": [],
   "source": [
    "# set up X, y of train and test\n",
    "train_Class = np.array(train_labels)\n",
    "train_images = np.array(train_images)\n",
    "\n",
    "test_Class = np.array(test_labels)\n",
    "test_images = np.array(test_images)"
   ]
  },
  {
   "cell_type": "code",
   "execution_count": 6,
   "metadata": {},
   "outputs": [],
   "source": [
    "# project the image data on the eigen vectors\n",
    "train_images_project, selected_eigenvectors=eigenface_project(train_images)\n",
    "\n",
    "test_images_centered = test_images - np.mean(test_images, axis=0)\n",
    "test_images_project = np.dot(test_images_centered.reshape(test_images.shape[0], -1), selected_eigenvectors)"
   ]
  },
  {
   "cell_type": "code",
   "execution_count": 7,
   "metadata": {},
   "outputs": [],
   "source": [
    "# define a random forest function, and search the best parameters\n",
    "\n",
    "def auto_random_forest(\n",
    "    X,\n",
    "    y,\n",
    "    n_estimators=100,\n",
    "    cv=10,\n",
    "    random_state=2024\n",
    "):\n",
    "    \"\"\"\n",
    "    Implement Random Forest with different max_features settings and find optimal value\n",
    "    \n",
    "    Parameters:\n",
    "    X, y: pandas DataFrame containing features and target\n",
    "    test_size: proportion of data to use for testing in CV\n",
    "    random_state: random state for reproducibility\n",
    "    n_estimators: number of trees in forest\n",
    "    cv: number of cross-validation folds\n",
    "    \"\"\"\n",
    "    \n",
    "    # number of features\n",
    "    n_features = np.array(X).shape[1]\n",
    "    \n",
    "    # Create different max_features values to try\n",
    "    # Include common options and some specific numbers\n",
    "    max_features_options = [\n",
    "        \"log2\",\n",
    "        \"sqrt\",\n",
    "        0.1,     # 10% of features\n",
    "        0.2,     # 20% of features\n",
    "    ]\n",
    "    \n",
    "    # Scale features\n",
    "    scaler = StandardScaler()\n",
    "    X_scaled = scaler.fit_transform(X)\n",
    "    \n",
    "    # Create parameter grid\n",
    "    param_grid = {\n",
    "        'max_features': max_features_options,\n",
    "        'min_samples_split': [2, 5, 10, 20, 30, 40, 50],\n",
    "        # 'min_samples_leaf': [2, 5, 10, 20, 30, 40, 50]\n",
    "        'max_depth': [3, 5, 7, 10, 20, 30]\n",
    "    }\n",
    "    \n",
    "    # Initialize Random Forest\n",
    "    rf = RandomForestClassifier(\n",
    "        n_estimators=n_estimators,\n",
    "        random_state=random_state,\n",
    "        max_samples=0.3,\n",
    "        bootstrap=True\n",
    "    )\n",
    "    \n",
    "    # 3. Setup StratifiedKFold\n",
    "    skf = StratifiedKFold(\n",
    "        n_splits=cv,\n",
    "        shuffle=True,\n",
    "        random_state=random_state\n",
    "    )\n",
    "    \n",
    "    # Perform grid search\n",
    "    grid_search = GridSearchCV(\n",
    "        estimator=rf,\n",
    "        param_grid=param_grid,\n",
    "        cv=skf,\n",
    "        scoring='accuracy',\n",
    "        n_jobs=-1, # use all the CPU cores\n",
    "        verbose=2  # detailed output monitoring progress updates\n",
    "    )\n",
    "    \n",
    "    # Fit grid search\n",
    "    grid_search.fit(X_scaled, y)\n",
    "    \n",
    "    # Get best model, best params, and best score\n",
    "    best_rf = grid_search.best_estimator_\n",
    "    best_par = grid_search.best_params_\n",
    "    best_score = grid_search.best_score_\n",
    "    \n",
    "    # Compile results\n",
    "    results = {\n",
    "        'best_params': best_par,\n",
    "        'best_score': best_score,\n",
    "        'best_model': best_rf\n",
    "    }\n",
    "    \n",
    "    return results"
   ]
  },
  {
   "cell_type": "code",
   "execution_count": 8,
   "metadata": {},
   "outputs": [
    {
     "name": "stdout",
     "output_type": "stream",
     "text": [
      "Fitting 10 folds for each of 168 candidates, totalling 1680 fits\n",
      "Runtime: 8.067814755439759 mins\n"
     ]
    }
   ],
   "source": [
    "start_time = time()\n",
    "\n",
    "# Grid search the best model\n",
    "random_forest_result = auto_random_forest(X=train_images_project, y=train_Class)\n",
    "\n",
    "end_time = time()\n",
    "print(f\"Runtime: {(end_time - start_time)/60} mins\")"
   ]
  },
  {
   "cell_type": "code",
   "execution_count": 9,
   "metadata": {},
   "outputs": [
    {
     "name": "stdout",
     "output_type": "stream",
     "text": [
      "best_params: \n",
      " {'max_depth': 30, 'max_features': 0.2, 'min_samples_split': 2}\n",
      "best_score: \n",
      " 0.40398432237793047\n",
      "best_model: \n",
      " RandomForestClassifier(max_depth=30, max_features=0.2, max_samples=0.3,\n",
      "                       random_state=2024)\n"
     ]
    }
   ],
   "source": [
    "# loop through and print the results\n",
    "for key, value in random_forest_result.items():\n",
    "    print(f\"{key}: \\n {value}\")"
   ]
  },
  {
   "cell_type": "code",
   "execution_count": 15,
   "metadata": {},
   "outputs": [],
   "source": [
    "# work on the test data set\n",
    "# fit with the best model with 1000 trees\n",
    "scaler = StandardScaler()\n",
    "scaler.fit(train_images_project)\n",
    "train_images_scaled = scaler.transform(train_images_project)\n",
    "test_images_scaled = scaler.transform(test_images_project)\n",
    "rf = RandomForestClassifier(max_depth=30, max_features=0.2, min_samples_split=2,\n",
    "                       random_state=2024, max_samples=0.5, n_estimators=2000, bootstrap=True, n_jobs=20)\n",
    "rf.fit(train_images_scaled, train_Class)\n",
    "test_Class_pred = rf.predict(test_images_scaled)\n",
    "train_Class_pred = rf.predict(train_images_scaled)"
   ]
  },
  {
   "cell_type": "code",
   "execution_count": 16,
   "metadata": {},
   "outputs": [
    {
     "data": {
      "text/plain": [
       "array([0.01823623, 0.01181555, 0.01060743, 0.01214427, 0.00969732,\n",
       "       0.00909857, 0.00906644, 0.01123851, 0.01220869, 0.01111915,\n",
       "       0.00890865, 0.01204467, 0.00908749, 0.02040163, 0.01334773,\n",
       "       0.00943877, 0.01087122, 0.00968903, 0.00921292, 0.01004377,\n",
       "       0.00934425, 0.01125186, 0.02111256, 0.00915379, 0.00899485,\n",
       "       0.00933492, 0.01039433, 0.00982238, 0.00926783, 0.01168326,\n",
       "       0.00901563, 0.0092329 , 0.01056328, 0.00907241, 0.00945345,\n",
       "       0.01110538, 0.00942215, 0.00867061, 0.00889935, 0.00981794,\n",
       "       0.00940656, 0.00895653, 0.00913457, 0.00883522, 0.00873579,\n",
       "       0.00894899, 0.00913958, 0.00892837, 0.01033469, 0.01079827,\n",
       "       0.01033302, 0.00994366, 0.00878894, 0.00879105, 0.00893271,\n",
       "       0.00871748, 0.00926743, 0.00873415, 0.00881128, 0.00878103,\n",
       "       0.00928765, 0.00885792, 0.00901284, 0.00909715, 0.00952219,\n",
       "       0.00880631, 0.0097015 , 0.00886796, 0.00886916, 0.00883299,\n",
       "       0.00872399, 0.00890131, 0.00877499, 0.00876085, 0.0088783 ,\n",
       "       0.00907568, 0.00890862, 0.00868016, 0.00864336, 0.00892211,\n",
       "       0.00892505, 0.00884002, 0.00890422, 0.00858077, 0.008673  ,\n",
       "       0.00872376, 0.00867799, 0.00882392, 0.0086913 , 0.00886836,\n",
       "       0.00875273, 0.00884559, 0.00946074, 0.00859855, 0.00878824,\n",
       "       0.00870356, 0.00882255, 0.00873988, 0.0088127 , 0.00870166,\n",
       "       0.0089302 , 0.00875574, 0.00904394])"
      ]
     },
     "execution_count": 16,
     "metadata": {},
     "output_type": "execute_result"
    }
   ],
   "source": [
    "# feature importance\n",
    "rf.feature_importances_"
   ]
  },
  {
   "cell_type": "code",
   "execution_count": 17,
   "metadata": {},
   "outputs": [
    {
     "name": "stdout",
     "output_type": "stream",
     "text": [
      "0.9984325472848236\n",
      "              precision    recall  f1-score   support\n",
      "\n",
      "       angry       1.00      1.00      1.00      3995\n",
      "     disgust       1.00      1.00      1.00       436\n",
      "        fear       1.00      1.00      1.00      4097\n",
      "       happy       1.00      1.00      1.00      7215\n",
      "     neutral       1.00      1.00      1.00      4965\n",
      "         sad       1.00      1.00      1.00      4830\n",
      "    surprise       1.00      1.00      1.00      3171\n",
      "\n",
      "    accuracy                           1.00     28709\n",
      "   macro avg       1.00      1.00      1.00     28709\n",
      "weighted avg       1.00      1.00      1.00     28709\n",
      "\n"
     ]
    }
   ],
   "source": [
    "# train accuracy\n",
    "print(accuracy_score(train_Class, train_Class_pred))\n",
    "        \n",
    "# classification_report\n",
    "print(classification_report(train_Class, train_Class_pred))"
   ]
  },
  {
   "cell_type": "code",
   "execution_count": 18,
   "metadata": {},
   "outputs": [
    {
     "name": "stdout",
     "output_type": "stream",
     "text": [
      "0.4453886876567289\n",
      "              precision    recall  f1-score   support\n",
      "\n",
      "       angry       0.81      0.14      0.24       958\n",
      "     disgust       1.00      0.30      0.46       111\n",
      "        fear       0.58      0.23      0.33      1024\n",
      "       happy       0.38      0.86      0.53      1774\n",
      "     neutral       0.45      0.31      0.37      1233\n",
      "         sad       0.40      0.32      0.35      1247\n",
      "    surprise       0.67      0.59      0.63       831\n",
      "\n",
      "    accuracy                           0.45      7178\n",
      "   macro avg       0.61      0.39      0.41      7178\n",
      "weighted avg       0.53      0.45      0.41      7178\n",
      "\n"
     ]
    }
   ],
   "source": [
    "# test accuracy\n",
    "print(accuracy_score(test_Class, test_Class_pred))\n",
    "        \n",
    "# classification_report\n",
    "print(classification_report(test_Class, test_Class_pred))"
   ]
  }
 ],
 "metadata": {
  "kernelspec": {
   "display_name": "base",
   "language": "python",
   "name": "python3"
  },
  "language_info": {
   "codemirror_mode": {
    "name": "ipython",
    "version": 3
   },
   "file_extension": ".py",
   "mimetype": "text/x-python",
   "name": "python",
   "nbconvert_exporter": "python",
   "pygments_lexer": "ipython3",
   "version": "3.12.7"
  }
 },
 "nbformat": 4,
 "nbformat_minor": 2
}
