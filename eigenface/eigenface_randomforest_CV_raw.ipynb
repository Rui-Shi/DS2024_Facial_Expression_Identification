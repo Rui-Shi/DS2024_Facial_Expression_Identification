{
 "cells": [
  {
   "cell_type": "code",
   "execution_count": null,
   "metadata": {},
   "outputs": [],
   "source": [
    "import numpy as np\n",
    "import pandas as pd\n",
    "import os\n",
    "import cv2\n",
    "from sklearn.ensemble import RandomForestClassifier\n",
    "from sklearn.preprocessing import StandardScaler\n",
    "from sklearn.pipeline import Pipeline\n",
    "from sklearn.model_selection import GridSearchCV, cross_val_predict, cross_val_score, KFold, StratifiedKFold, train_test_split\n",
    "from eigenface_project import eigenface_project\n",
    "from sklearn.metrics import classification_report, accuracy_score, confusion_matrix\n",
    "from time import time, sleep"
   ]
  },
  {
   "cell_type": "code",
   "execution_count": 2,
   "metadata": {},
   "outputs": [
    {
     "name": "stdout",
     "output_type": "stream",
     "text": [
      "Loaded 28709 training images.\n",
      "Loaded 7178 training images.\n"
     ]
    }
   ],
   "source": [
    "# Directory paths\n",
    "train_dir = os.path.expanduser('../raw_data/fer2013/train')\n",
    "test_dir = os.path.expanduser('../raw_data/fer2013/test')\n",
    "\n",
    "# Define a function to load the balanced data\n",
    "def load_images_from_directory(directory):\n",
    "    images = []\n",
    "    labels = []\n",
    "    for label in os.listdir(directory):\n",
    "        label_path = os.path.join(directory, label)\n",
    "        if os.path.isdir(label_path):\n",
    "            for file in os.listdir(label_path):\n",
    "                file_path = os.path.join(label_path, file)\n",
    "                image = cv2.imread(file_path, cv2.IMREAD_GRAYSCALE)\n",
    "                images.append(image)\n",
    "                labels.append(label)\n",
    "    return images, labels\n",
    "\n",
    "# Load training and testing images\n",
    "train_images, train_labels = load_images_from_directory(train_dir)\n",
    "test_images, test_labels = load_images_from_directory(test_dir)\n",
    "\n",
    "\n",
    "print(f\"Loaded {len(train_images)} training images.\")\n",
    "print(f\"Loaded {len(test_images)} training images.\")"
   ]
  },
  {
   "cell_type": "code",
   "execution_count": 3,
   "metadata": {},
   "outputs": [
    {
     "name": "stdout",
     "output_type": "stream",
     "text": [
      "{'surprise': 3171, 'angry': 3995, 'sad': 4830, 'happy': 7215, 'neutral': 4965, 'disgust': 436, 'fear': 4097}\n",
      "(28709, 48, 48)\n",
      "{'surprise': 831, 'angry': 958, 'sad': 1247, 'happy': 1774, 'neutral': 1233, 'disgust': 111, 'fear': 1024}\n",
      "(7178, 48, 48)\n"
     ]
    }
   ],
   "source": [
    "# Check the train and test data\n",
    "print({x: train_labels.count(x) for x in set(train_labels)})\n",
    "print(np.array(train_images).shape)\n",
    "\n",
    "print({x: test_labels.count(x) for x in set(test_labels)})\n",
    "print(np.array(test_images).shape)"
   ]
  },
  {
   "cell_type": "code",
   "execution_count": 4,
   "metadata": {},
   "outputs": [],
   "source": [
    "# set up X, y of train and test\n",
    "train_Class = np.array(train_labels)\n",
    "train_images = np.array(train_images)\n",
    "\n",
    "test_Class = np.array(test_labels)\n",
    "test_images = np.array(test_images)"
   ]
  },
  {
   "cell_type": "code",
   "execution_count": 5,
   "metadata": {},
   "outputs": [],
   "source": [
    "# project the image data on the eigen vectors\n",
    "train_images_project, selected_eigenvectors=eigenface_project(train_images)\n",
    "\n",
    "test_images_centered = test_images - np.mean(test_images, axis=0)\n",
    "test_images_project = np.dot(test_images_centered.reshape(test_images.shape[0], -1), selected_eigenvectors)"
   ]
  },
  {
   "cell_type": "code",
   "execution_count": null,
   "metadata": {},
   "outputs": [],
   "source": [
    "# define a random forest function, and search the best parameters\n",
    "\n",
    "def auto_random_forest(\n",
    "    X,\n",
    "    y,\n",
    "    n_estimators=100,\n",
    "    cv=10,\n",
    "    random_state=2024\n",
    "):\n",
    "    \"\"\"\n",
    "    Implement Random Forest with different max_features settings and find optimal value\n",
    "    \n",
    "    Parameters:\n",
    "    X, y: pandas DataFrame containing features and target\n",
    "    test_size: proportion of data to use for testing in CV\n",
    "    random_state: random state for reproducibility\n",
    "    n_estimators: number of trees in forest\n",
    "    cv: number of cross-validation folds\n",
    "    \"\"\"\n",
    "    \n",
    "    # number of features\n",
    "    n_features = np.array(X).shape[1]\n",
    "    \n",
    "    # Create different max_features values to try\n",
    "    # Include common options and some specific numbers\n",
    "    max_features_options = [\n",
    "        \"log2\",\n",
    "        \"sqrt\",\n",
    "        0.1,     # 10% of features\n",
    "        0.2,     # 20% of features\n",
    "    ]\n",
    "    \n",
    "    # Scale features\n",
    "    scaler = StandardScaler()\n",
    "    X_scaled = scaler.fit_transform(X)\n",
    "    \n",
    "    # Create parameter grid\n",
    "    param_grid = {\n",
    "        'max_features': max_features_options,\n",
    "        'min_samples_split': [2, 5, 10, 20, 30, 40, 50],\n",
    "        # 'min_samples_leaf': [2, 5, 10, 20, 30, 40, 50]\n",
    "        'max_depth': [3, 5, 7, 10, 20, 30]\n",
    "    }\n",
    "    \n",
    "    # Initialize Random Forest\n",
    "    rf = RandomForestClassifier(\n",
    "        n_estimators=n_estimators,\n",
    "        random_state=random_state,\n",
    "        max_samples=0.3\n",
    "    )\n",
    "    \n",
    "    # 3. Setup StratifiedKFold\n",
    "    skf = StratifiedKFold(\n",
    "        n_splits=cv,\n",
    "        shuffle=True,\n",
    "        random_state=random_state,\n",
    "        bootstrap=True\n",
    "    )\n",
    "    \n",
    "    # Perform grid search\n",
    "    grid_search = GridSearchCV(\n",
    "        estimator=rf,\n",
    "        param_grid=param_grid,\n",
    "        cv=skf,\n",
    "        scoring='accuracy',\n",
    "        n_jobs=-1, # use all the CPU cores\n",
    "        verbose=2  # detailed output monitoring progress updates\n",
    "    )\n",
    "    \n",
    "    # Fit grid search\n",
    "    grid_search.fit(X_scaled, y)\n",
    "    \n",
    "    # Get best model, best params, and best score\n",
    "    best_rf = grid_search.best_estimator_\n",
    "    best_par = grid_search.best_params_\n",
    "    best_score = grid_search.best_score_\n",
    "    \n",
    "    # Compile results\n",
    "    results = {\n",
    "        'best_params': best_par,\n",
    "        'best_score': best_score,\n",
    "        'best_model': best_rf\n",
    "    }\n",
    "    \n",
    "    return results"
   ]
  },
  {
   "cell_type": "code",
   "execution_count": null,
   "metadata": {},
   "outputs": [
    {
     "name": "stdout",
     "output_type": "stream",
     "text": [
      "Fitting 10 folds for each of 168 candidates, totalling 1680 fits\n"
     ]
    }
   ],
   "source": [
    "\n",
    "\n",
    "# Grid search the best model\n",
    "random_forest_result = auto_random_forest(X=train_images_project, y=train_Class)"
   ]
  },
  {
   "cell_type": "code",
   "execution_count": 8,
   "metadata": {},
   "outputs": [
    {
     "name": "stdout",
     "output_type": "stream",
     "text": [
      "best_params: \n",
      " {'max_depth': 20, 'max_features': 0.2, 'min_samples_split': 5}\n",
      "best_score: \n",
      " 0.42700846018760236\n",
      "best_model: \n",
      " RandomForestClassifier(max_depth=20, max_features=0.2, min_samples_split=5,\n",
      "                       random_state=2024)\n"
     ]
    }
   ],
   "source": [
    "# loop through and print the results\n",
    "for key, value in random_forest_result.items():\n",
    "    print(f\"{key}: \\n {value}\")"
   ]
  },
  {
   "cell_type": "code",
   "execution_count": 26,
   "metadata": {},
   "outputs": [],
   "source": [
    "# work on the test data set\n",
    "# fit with the best model with 1000 trees\n",
    "scaler = StandardScaler()\n",
    "scaler.fit(train_images_project)\n",
    "train_images_scaled = scaler.transform(train_images_project)\n",
    "test_images_scaled = scaler.transform(test_images_project)\n",
    "rf = RandomForestClassifier(max_depth=20, max_features=0.2, min_samples_split=5,\n",
    "                       random_state=2024, max_samples=0.5, n_estimators=2000)\n",
    "rf.fit(train_images_scaled, train_Class)\n",
    "test_Class_pred = rf.predict(test_images_scaled)\n",
    "train_Class_pred = rf.predict(train_images_scaled)"
   ]
  },
  {
   "cell_type": "code",
   "execution_count": null,
   "metadata": {},
   "outputs": [],
   "source": [
    "# feature importance\n",
    "rf.feature_importances_"
   ]
  },
  {
   "cell_type": "code",
   "execution_count": 27,
   "metadata": {},
   "outputs": [
    {
     "name": "stdout",
     "output_type": "stream",
     "text": [
      "0.9939391828346511\n",
      "              precision    recall  f1-score   support\n",
      "\n",
      "       angry       1.00      0.99      1.00      3995\n",
      "     disgust       1.00      0.88      0.93       436\n",
      "        fear       1.00      0.99      0.99      4097\n",
      "       happy       0.98      1.00      0.99      7215\n",
      "     neutral       1.00      1.00      1.00      4965\n",
      "         sad       1.00      1.00      1.00      4830\n",
      "    surprise       1.00      0.99      0.99      3171\n",
      "\n",
      "    accuracy                           0.99     28709\n",
      "   macro avg       1.00      0.98      0.99     28709\n",
      "weighted avg       0.99      0.99      0.99     28709\n",
      "\n"
     ]
    }
   ],
   "source": [
    "# train accuracy\n",
    "print(accuracy_score(train_Class, train_Class_pred))\n",
    "        \n",
    "# classification_report\n",
    "print(classification_report(train_Class, train_Class_pred))"
   ]
  },
  {
   "cell_type": "code",
   "execution_count": 28,
   "metadata": {},
   "outputs": [
    {
     "name": "stdout",
     "output_type": "stream",
     "text": [
      "0.44413485650599055\n",
      "              precision    recall  f1-score   support\n",
      "\n",
      "       angry       0.80      0.14      0.23       958\n",
      "     disgust       1.00      0.23      0.38       111\n",
      "        fear       0.57      0.22      0.32      1024\n",
      "       happy       0.38      0.87      0.53      1774\n",
      "     neutral       0.45      0.31      0.36      1233\n",
      "         sad       0.41      0.32      0.36      1247\n",
      "    surprise       0.67      0.59      0.62       831\n",
      "\n",
      "    accuracy                           0.44      7178\n",
      "   macro avg       0.61      0.38      0.40      7178\n",
      "weighted avg       0.52      0.44      0.41      7178\n",
      "\n"
     ]
    }
   ],
   "source": [
    "# test accuracy\n",
    "print(accuracy_score(test_Class, test_Class_pred))\n",
    "        \n",
    "# classification_report\n",
    "print(classification_report(test_Class, test_Class_pred))"
   ]
  }
 ],
 "metadata": {
  "kernelspec": {
   "display_name": "base",
   "language": "python",
   "name": "python3"
  },
  "language_info": {
   "codemirror_mode": {
    "name": "ipython",
    "version": 3
   },
   "file_extension": ".py",
   "mimetype": "text/x-python",
   "name": "python",
   "nbconvert_exporter": "python",
   "pygments_lexer": "ipython3",
   "version": "3.12.7"
  }
 },
 "nbformat": 4,
 "nbformat_minor": 2
}
