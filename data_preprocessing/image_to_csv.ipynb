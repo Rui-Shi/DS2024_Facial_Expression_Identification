{
 "cells": [
  {
   "cell_type": "code",
   "execution_count": 11,
   "metadata": {},
   "outputs": [],
   "source": [
    "import os\n",
    "import csv\n",
    "import matplotlib.pyplot as plt\n",
    "from sklearn.datasets import fetch_olivetti_faces #  This dataset contains 400 grayscale images of faces.\n",
    "from sklearn.decomposition import PCA\n",
    "from PIL import Image"
   ]
  },
  {
   "cell_type": "code",
   "execution_count": 15,
   "metadata": {},
   "outputs": [
    {
     "name": "stdout",
     "output_type": "stream",
     "text": [
      "g:\\TheErdosInstitution\\DS_2024\\DS2024_facial_expression\\Eigenface\n"
     ]
    }
   ],
   "source": [
    "# Get the absolute path of the current script file\n",
    "abspath = os.path.abspath(\"Eigenface.ipynb\")\n",
    "\n",
    "# Extract the directory from the file path\n",
    "dname = os.path.dirname(abspath)\n",
    "\n",
    "# Change the current working directory\n",
    "os.chdir(dname)\n",
    "\n",
    "# Print the current working directory (optional)\n",
    "print(os.getcwd()) "
   ]
  },
  {
   "cell_type": "code",
   "execution_count": 9,
   "metadata": {},
   "outputs": [
    {
     "data": {
      "text/plain": [
       "(64, 64)"
      ]
     },
     "execution_count": 9,
     "metadata": {},
     "output_type": "execute_result"
    }
   ],
   "source": [
    "image_dir = \"../data/fer2013/train/train_all\"  # the directory of face images\n",
    "csv_file = \"face_data.csv\""
   ]
  },
  {
   "cell_type": "code",
   "execution_count": null,
   "metadata": {},
   "outputs": [],
   "source": [
    "def process_images(image_dir):\n",
    "    \"\"\"\n",
    "    Loads images from the given directory, converts them to grayscale, \n",
    "    flattens them into 1D arrays, and returns a list of image data.\n",
    "    \"\"\"\n",
    "\n",
    "    image_data = []\n",
    "    for filename in os.listdir(image_dir):\n",
    "        if filename.endswith((\".jpg\", \".jpeg\", \".png\")):  # Adjust file extensions as needed\n",
    "            filepath = os.path.join(image_dir, filename)\n",
    "            try:\n",
    "                img = Image.open(filepath).convert('L')  # Convert to grayscale\n",
    "                img = img.resize((48, 48))  # Ensure all images are 48x48\n",
    "                img_array = np.array(img).flatten()  # Flatten to a 1D array\n",
    "                image_data.append(img_array)\n",
    "            except Exception as e:\n",
    "                print(f\"Error processing image {filename}: {e}\")\n",
    "    return image_data"
   ]
  },
  {
   "cell_type": "code",
   "execution_count": null,
   "metadata": {},
   "outputs": [],
   "source": [
    "def write_to_csv(csv_file, image_data):\n",
    "    \"\"\"\n",
    "    Writes the image data to a CSV file.\n",
    "    \"\"\"\n",
    "\n",
    "    with open(csv_file, 'w', newline='') as file:\n",
    "        writer = csv.writer(file)\n",
    "        writer.writerow([\"pixels\"])  # Header (optional)\n",
    "        for img_array in image_data:\n",
    "            writer.writerow(img_array.tolist()) "
   ]
  },
  {
   "cell_type": "code",
   "execution_count": null,
   "metadata": {},
   "outputs": [],
   "source": [
    "if __name__ == \"__main__\":\n",
    "    image_data = process_images(image_dir)\n",
    "    write_to_csv(csv_file, image_data)\n",
    "    print(f\"Successfully processed images and saved data to {csv_file}\")"
   ]
  }
 ],
 "metadata": {
  "kernelspec": {
   "display_name": "base",
   "language": "python",
   "name": "python3"
  },
  "language_info": {
   "codemirror_mode": {
    "name": "ipython",
    "version": 3
   },
   "file_extension": ".py",
   "mimetype": "text/x-python",
   "name": "python",
   "nbconvert_exporter": "python",
   "pygments_lexer": "ipython3",
   "version": "3.12.4"
  }
 },
 "nbformat": 4,
 "nbformat_minor": 2
}
