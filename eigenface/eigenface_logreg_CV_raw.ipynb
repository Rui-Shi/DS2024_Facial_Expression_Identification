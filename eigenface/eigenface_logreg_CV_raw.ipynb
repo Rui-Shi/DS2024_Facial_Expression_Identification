{
 "cells": [
  {
   "cell_type": "code",
   "execution_count": 9,
   "metadata": {},
   "outputs": [],
   "source": [
    "import numpy as np\n",
    "import pandas as pd\n",
    "import os\n",
    "import cv2\n",
    "from sklearn.linear_model import LogisticRegression\n",
    "from sklearn.preprocessing import StandardScaler, LabelEncoder\n",
    "from sklearn.pipeline import Pipeline\n",
    "from sklearn.model_selection import GridSearchCV, cross_val_predict, cross_val_score, KFold, StratifiedKFold, train_test_split\n",
    "from eigenface_project import eigenface_project\n",
    "from sklearn.metrics import classification_report, accuracy_score, confusion_matrix"
   ]
  },
  {
   "cell_type": "code",
   "execution_count": 2,
   "metadata": {},
   "outputs": [
    {
     "name": "stdout",
     "output_type": "stream",
     "text": [
      "Loaded 28709 training images.\n",
      "Loaded 7178 training images.\n"
     ]
    }
   ],
   "source": [
    "# Directory paths\n",
    "train_dir = os.path.expanduser('../raw_data/fer2013/train')\n",
    "test_dir = os.path.expanduser('../raw_data/fer2013/test')\n",
    "\n",
    "# Define a function to load the balanced data\n",
    "def load_images_from_directory(directory):\n",
    "    images = []\n",
    "    labels = []\n",
    "    for label in os.listdir(directory):\n",
    "        label_path = os.path.join(directory, label)\n",
    "        if os.path.isdir(label_path):\n",
    "            for file in os.listdir(label_path):\n",
    "                file_path = os.path.join(label_path, file)\n",
    "                image = cv2.imread(file_path, cv2.IMREAD_GRAYSCALE)\n",
    "                images.append(image)\n",
    "                labels.append(label)\n",
    "    return images, labels\n",
    "\n",
    "# Load training and testing images\n",
    "train_images, train_labels = load_images_from_directory(train_dir)\n",
    "test_images, test_labels = load_images_from_directory(test_dir)\n",
    "\n",
    "\n",
    "print(f\"Loaded {len(train_images)} training images.\")\n",
    "print(f\"Loaded {len(test_images)} training images.\")"
   ]
  },
  {
   "cell_type": "code",
   "execution_count": 3,
   "metadata": {},
   "outputs": [
    {
     "name": "stdout",
     "output_type": "stream",
     "text": [
      "{'sad': 4830, 'fear': 4097, 'angry': 3995, 'disgust': 436, 'surprise': 3171, 'happy': 7215, 'neutral': 4965}\n",
      "(28709, 48, 48)\n",
      "{'sad': 1247, 'fear': 1024, 'angry': 958, 'disgust': 111, 'surprise': 831, 'happy': 1774, 'neutral': 1233}\n",
      "(7178, 48, 48)\n"
     ]
    }
   ],
   "source": [
    "# Check the train and test data\n",
    "print({x: train_labels.count(x) for x in set(train_labels)})\n",
    "print(np.array(train_images).shape)\n",
    "\n",
    "print({x: test_labels.count(x) for x in set(test_labels)})\n",
    "print(np.array(test_images).shape)"
   ]
  },
  {
   "cell_type": "code",
   "execution_count": 4,
   "metadata": {},
   "outputs": [],
   "source": [
    "# set up X, y of train and test\n",
    "train_Class = np.array(train_labels)\n",
    "train_images = np.array(train_images)\n",
    "\n",
    "test_Class = np.array(test_labels)\n",
    "test_images = np.array(test_images)"
   ]
  },
  {
   "cell_type": "code",
   "execution_count": 5,
   "metadata": {},
   "outputs": [],
   "source": [
    "# project the image data on the eigen vectors\n",
    "train_images_project, selected_eigenvectors=eigenface_project(train_images)\n",
    "\n",
    "test_images_centered = test_images - np.mean(test_images, axis=0)\n",
    "test_images_project = np.dot(test_images_centered.reshape(test_images.shape[0], -1), selected_eigenvectors)"
   ]
  },
  {
   "cell_type": "code",
   "execution_count": 21,
   "metadata": {},
   "outputs": [
    {
     "name": "stdout",
     "output_type": "stream",
     "text": [
      "Fitting 10 folds for each of 10 candidates, totalling 100 fits\n"
     ]
    },
    {
     "name": "stderr",
     "output_type": "stream",
     "text": [
      "c:\\Users\\shiru\\anaconda3\\Lib\\site-packages\\sklearn\\linear_model\\_logistic.py:1247: FutureWarning: 'multi_class' was deprecated in version 1.5 and will be removed in 1.7. From then on, it will always use 'multinomial'. Leave it to its default value to avoid this warning.\n",
      "  warnings.warn(\n"
     ]
    }
   ],
   "source": [
    "# fit multi-logistic Regression\n",
    "\n",
    "def auto_logreg(X, \n",
    "                y, \n",
    "                random_state=2024, \n",
    "                cv=10\n",
    "                ):\n",
    "    # 1. Parameter grid\n",
    "    param_grid = {\n",
    "        \"C\": [0.01, 0.1, 1, 10, 100],\n",
    "        \"penalty\": [\"l1\", \"l2\"]\n",
    "    }\n",
    "    \n",
    "    # 2. Create base model\n",
    "    logreg_model = LogisticRegression(\n",
    "        multi_class='multinomial',\n",
    "        solver='saga',\n",
    "        max_iter=1000\n",
    "    )\n",
    "    \n",
    "    # 3. Setup StratifiedKFold\n",
    "    skf = StratifiedKFold(\n",
    "        n_splits=cv,\n",
    "        shuffle=True,\n",
    "        random_state=random_state\n",
    "    )\n",
    "    \n",
    "    # 4. Setup GridSearchCV\n",
    "    grid_search = GridSearchCV(\n",
    "        estimator=logreg_model,\n",
    "        param_grid=param_grid,\n",
    "        cv=skf,\n",
    "        scoring='accuracy',\n",
    "        n_jobs=-1, # use all the CPU cores\n",
    "        verbose=2  # detailed output monitoring progress updates\n",
    "    )\n",
    "    \n",
    "    # 5. Scale the features\n",
    "    \n",
    "    # 6. Fit the model\n",
    "    grid_search.fit(X, y)\n",
    "\n",
    "    # 7. Best model\n",
    "    best_model = grid_search.best_estimator_\n",
    "    \n",
    "    # 8. Best params\n",
    "    best_par = grid_search.best_params_\n",
    "    \n",
    "    # 9. Best CV score\n",
    "    best_score = grid_search.best_score_\n",
    "    \n",
    "    # 10. Compile and return the results\n",
    "    results = {\n",
    "        'best_params': best_par,\n",
    "        'best_score': best_score,\n",
    "        'best_model': best_model\n",
    "    }\n",
    "\n",
    "    return results, grid_search\n",
    "\n",
    "logreg_result, grid_search = auto_logreg(X=train_images_project, y=train_Class)"
   ]
  },
  {
   "cell_type": "code",
   "execution_count": 22,
   "metadata": {},
   "outputs": [
    {
     "name": "stdout",
     "output_type": "stream",
     "text": [
      "best_params: \n",
      " {'C': 0.01, 'penalty': 'l1'}\n",
      "best_score: \n",
      " 0.35922547595381904\n",
      "best_model: \n",
      " LogisticRegression(C=0.01, max_iter=1000, multi_class='multinomial',\n",
      "                   penalty='l1', solver='saga')\n"
     ]
    }
   ],
   "source": [
    "# loop through and print the results\n",
    "for key, value in logreg_result.items():\n",
    "    print(f\"{key}: \\n {value}\")"
   ]
  },
  {
   "cell_type": "code",
   "execution_count": 25,
   "metadata": {},
   "outputs": [
    {
     "name": "stderr",
     "output_type": "stream",
     "text": [
      "c:\\Users\\shiru\\anaconda3\\Lib\\site-packages\\sklearn\\linear_model\\_logistic.py:1247: FutureWarning: 'multi_class' was deprecated in version 1.5 and will be removed in 1.7. From then on, it will always use 'multinomial'. Leave it to its default value to avoid this warning.\n",
      "  warnings.warn(\n"
     ]
    }
   ],
   "source": [
    "# work on the test data set\n",
    "# fit with the best model\n",
    "logreg = LogisticRegression(C=0.01, max_iter=1000, \n",
    "                            multi_class='multinomial', \n",
    "                            solver='saga',\n",
    "                            penalty=\"l1\")\n",
    "\n",
    "logreg.fit(train_images_project, train_Class)\n",
    "test_Class_pred = logreg.predict(test_images_project)\n",
    "train_Class_pred = logreg.predict(train_images_project)"
   ]
  },
  {
   "cell_type": "code",
   "execution_count": 26,
   "metadata": {},
   "outputs": [
    {
     "name": "stdout",
     "output_type": "stream",
     "text": [
      "0.36925702741300637\n",
      "              precision    recall  f1-score   support\n",
      "\n",
      "       angry       0.29      0.21      0.25      3995\n",
      "     disgust       0.22      0.01      0.02       436\n",
      "        fear       0.26      0.11      0.16      4097\n",
      "       happy       0.49      0.60      0.54      7215\n",
      "     neutral       0.36      0.33      0.34      4965\n",
      "         sad       0.30      0.29      0.29      4830\n",
      "    surprise       0.33      0.60      0.43      3171\n",
      "\n",
      "    accuracy                           0.37     28709\n",
      "   macro avg       0.32      0.31      0.29     28709\n",
      "weighted avg       0.35      0.37      0.35     28709\n",
      "\n"
     ]
    }
   ],
   "source": [
    "# train accuracy\n",
    "print(accuracy_score(train_Class, train_Class_pred))\n",
    "        \n",
    "# classification_report\n",
    "print(classification_report(train_Class, train_Class_pred))"
   ]
  },
  {
   "cell_type": "code",
   "execution_count": 27,
   "metadata": {},
   "outputs": [
    {
     "name": "stdout",
     "output_type": "stream",
     "text": [
      "0.3722485371969908\n",
      "              precision    recall  f1-score   support\n",
      "\n",
      "       angry       0.24      0.17      0.20       958\n",
      "     disgust       0.00      0.00      0.00       111\n",
      "        fear       0.24      0.11      0.15      1024\n",
      "       happy       0.49      0.63      0.55      1774\n",
      "     neutral       0.36      0.34      0.35      1233\n",
      "         sad       0.31      0.29      0.30      1247\n",
      "    surprise       0.35      0.59      0.44       831\n",
      "\n",
      "    accuracy                           0.37      7178\n",
      "   macro avg       0.28      0.31      0.28      7178\n",
      "weighted avg       0.34      0.37      0.35      7178\n",
      "\n"
     ]
    }
   ],
   "source": [
    "# test accuracy\n",
    "print(accuracy_score(test_Class, test_Class_pred))\n",
    "        \n",
    "# classification_report\n",
    "print(classification_report(test_Class, test_Class_pred))"
   ]
  }
 ],
 "metadata": {
  "kernelspec": {
   "display_name": "base",
   "language": "python",
   "name": "python3"
  },
  "language_info": {
   "codemirror_mode": {
    "name": "ipython",
    "version": 3
   },
   "file_extension": ".py",
   "mimetype": "text/x-python",
   "name": "python",
   "nbconvert_exporter": "python",
   "pygments_lexer": "ipython3",
   "version": "3.12.7"
  }
 },
 "nbformat": 4,
 "nbformat_minor": 2
}
